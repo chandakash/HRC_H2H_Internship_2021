{
 "cells": [
  {
   "cell_type": "code",
   "execution_count": 18,
   "metadata": {},
   "outputs": [],
   "source": [
    "#Dictionary of snakes and ladders\n",
    "snakes = {17 : 7, 54 : 34, 62 : 19, 98 : 79}\n",
    "ladders= {3 : 38, 24 : 33, 42 : 93, 72 : 84}"
   ]
  },
  {
   "cell_type": "code",
   "execution_count": 19,
   "metadata": {},
   "outputs": [],
   "source": [
    "#return random no. between 1 to 6\n",
    "import random\n",
    "\n",
    "def RollDice():\n",
    "    move = random.randint(1,6)\n",
    "    return move"
   ]
  },
  {
   "cell_type": "code",
   "execution_count": 20,
   "metadata": {},
   "outputs": [],
   "source": [
    "#input names\n",
    "def PlayerNames():\n",
    "    player1=input(\"Enter the name of Player 1: \")\n",
    "    player2=input(\"Enter the name of player 2: \")\n",
    "    return player1,player2"
   ]
  },
  {
   "cell_type": "code",
   "execution_count": 21,
   "metadata": {},
   "outputs": [],
   "source": [
    "#final position after each player's turn\n",
    "def FinalPos(curr_pos,dice_val):\n",
    "    old_pos=curr_pos\n",
    "    curr_pos+=int(dice_val)\n",
    "    \n",
    "    if curr_pos>MAX:\n",
    "        return old_pos\n",
    "    if curr_pos in snakes:\n",
    "        return snakes.get(curr_pos)\n",
    "    elif curr_pos in ladders:\n",
    "        return ladders.get(curr_pos)\n",
    "    \n",
    "    return curr_pos"
   ]
  },
  {
   "cell_type": "code",
   "execution_count": 22,
   "metadata": {},
   "outputs": [],
   "source": [
    "#to declare person has won the game or not.\n",
    "def Declare(pos):\n",
    "    global winner\n",
    "    print(\"\\nplayer \"+str(pos)+\" won the game\")\n",
    "    print(\"##### Game Successfully Finished #####\")\n",
    "    winner=True"
   ]
  },
  {
   "cell_type": "code",
   "execution_count": 23,
   "metadata": {},
   "outputs": [],
   "source": [
    "# chance of each player\n",
    "def Play(turn):\n",
    "    player_no = turn + 1 # player no. can be 1 or 2 only.\n",
    "    choice=None\n",
    "    while choice is None:\n",
    "        try:\n",
    "            choice = input(f\"\\nPlayer {player_no}: \")\n",
    "            if choice=='quit':\n",
    "                Declare((1-turn)+1) #to toggle the player no and declare him as winner.\n",
    "            elif choice=='roll':\n",
    "                dice_val=RollDice()\n",
    "                print('You got a',dice_val)\n",
    "                curr_pos[turn] = FinalPos(curr_pos[turn],dice_val)\n",
    "                print('Your final position is',curr_pos[turn])\n",
    "            elif 1<int(choice)<20:\n",
    "                print('You got a',choice)\n",
    "                curr_pos[turn] = FinalPos(curr_pos[turn],choice)\n",
    "                print('Your final position is',curr_pos[turn])\n",
    "            else:\n",
    "                print(\"Make a valid choice {roll,quit or number between 1 and 20}\")\n",
    "                choice=None\n",
    "        except:\n",
    "            print(\"Make a valid choice {roll,quit or number between 1 and 20}\")\n",
    "            choice=None\n",
    "        \n",
    "    if curr_pos[turn]==MAX:\n",
    "        Declare(player_no)"
   ]
  },
  {
   "cell_type": "code",
   "execution_count": 24,
   "metadata": {},
   "outputs": [
    {
     "name": "stdout",
     "output_type": "stream",
     "text": [
      "##### Welcome to Snakes & Ladders Game #####\n",
      "Enter the name of Player 1: akash \n",
      "Enter the name of player 2: aman\n",
      "##### Let us Start #####\n",
      "\n",
      "Player 1: roll\n",
      "You got a 6\n",
      "Your final position is 6\n",
      "\n",
      "Player 2: roll\n",
      "You got a 5\n",
      "Your final position is 5\n",
      "\n",
      "Player 1: roll\n",
      "You got a 6\n",
      "Your final position is 12\n",
      "\n",
      "Player 2: roll\n",
      "You got a 5\n",
      "Your final position is 10\n",
      "\n",
      "Player 1: 12\n",
      "You got a 12\n",
      "Your final position is 33\n",
      "\n",
      "Player 2: 7\n",
      "You got a 7\n",
      "Your final position is 7\n",
      "\n",
      "Player 1: 9\n",
      "You got a 9\n",
      "Your final position is 93\n",
      "\n",
      "Player 2: rollr\n",
      "Make a valid choice {roll,quit or number between 1 and 20}\n",
      "\n",
      "Player 2: roll\n",
      "You got a 5\n",
      "Your final position is 12\n",
      "\n",
      "Player 1: 20\n",
      "Make a valid choice {roll,quit or number between 1 and 20}\n",
      "\n",
      "Player 1: 7\n",
      "You got a 7\n",
      "Your final position is 100\n",
      "\n",
      "player 1 won the game\n",
      "##### Game Successfully Finished #####\n"
     ]
    }
   ],
   "source": [
    "#main function of our game\n",
    "\n",
    "winner=False  #global varible for winner\n",
    "MAX=100       #Upper limit to game i.e., 100\n",
    "turn=1        #chance of each player 0 -> player1 , 1-> player2\n",
    "\n",
    "if __name__ == '__main__':\n",
    "    print(\"##### Welcome to Snakes & Ladders Game #####\",flush = True)\n",
    "    \n",
    "    player_1,player_2 = PlayerNames()\n",
    "    \n",
    "    #current position of each player\n",
    "    curr_pos = [0] * 2\n",
    "    print('##### Let us Start #####')\n",
    "    while winner==False:\n",
    "        turn=1-turn      #to toggle the chance\n",
    "        Play(turn)"
   ]
  },
  {
   "cell_type": "raw",
   "metadata": {},
   "source": []
  }
 ],
 "metadata": {
  "kernelspec": {
   "display_name": "Python 3",
   "language": "python",
   "name": "python3"
  },
  "language_info": {
   "codemirror_mode": {
    "name": "ipython",
    "version": 3
   },
   "file_extension": ".py",
   "mimetype": "text/x-python",
   "name": "python",
   "nbconvert_exporter": "python",
   "pygments_lexer": "ipython3",
   "version": "3.7.6"
  }
 },
 "nbformat": 4,
 "nbformat_minor": 4
}
